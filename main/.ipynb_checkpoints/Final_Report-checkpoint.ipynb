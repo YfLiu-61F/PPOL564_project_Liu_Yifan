{
 "cells": [
  {
   "cell_type": "markdown",
   "id": "331cf45f",
   "metadata": {},
   "source": [
    "<h1><center> PPOL564 Final Report<br><br><font> \n",
    "Yifan Liu, word count: 2876 </font> </center> <h1>"
   ]
  },
  {
   "cell_type": "markdown",
   "id": "da9a9682",
   "metadata": {},
   "source": [
    "# Introduction"
   ]
  },
  {
   "cell_type": "markdown",
   "id": "202aa9f2",
   "metadata": {},
   "source": [
    "Like in any other competitive market, the price of electricity is subject to several volatile factors such as the amount of generation, the prices of fossil fuels that are the source of electricity generation etc. In addition, it also manifests autocorrelation since it is highly correlated with its previous self. Thus, predicting electricity price is extremely hard, if not impossible. However, a reliable prediction of electricity price has multiple important implications to civilian life and industrial production. The purpose of this project is to build a predictive model of electricity price with selected features and to investigate which features are the most important ones while generating a prediction.\n",
    "\n",
    "This report is divided into five parts. In the first part of the report, I give the background of the topic. Next is the data selection and wrangling process. In this part, I would state the rationale behind the choices for data and process of data wangling and merging. The third part is the analysis. In this part, I specified the method of dealing with missing values, performed initial data exploration, and selected certain modeling techniques. What follows are the last two parts of results and discussion, in which I analyzed model’s performance, insights yielded from the model and actions that I might take if given more time. "
   ]
  },
  {
   "cell_type": "markdown",
   "id": "233a86c2",
   "metadata": {},
   "source": [
    "# Background"
   ]
  },
  {
   "cell_type": "markdown",
   "id": "cf85a6bb",
   "metadata": {},
   "source": [
    "Electricity price prediction has always been hard since it resembles fluctuation in the financial market, in which autocorrelation is not unusual. It is not only subject to supply and demand, but also to many other factors such as weather, the price of its raw material, different regulation, and different rules for market participation. A reliable prediction of electricity price can help people, businesses, and power plants to plan, avoid unnecessary cost and maximize output. Despite the hardships in predicting the price of electricity, many scholars have given their try in this endeavor. The most frequent methods adopted in the prediction is using hybrid models in which both times series and other types of models are employed to tackle this problem. Chaâbane combined the ARFIMA model and the neural networks model to take the strength of both model in generating results.  LSTM (Long short-term memory) which is a subcategory of recurrent neural networks, is also commonly used in the case of predicting electricity price. Chang, Zhang, and Chen based their prediction on LSTM starting using Wavelet transform to decompose the price data. Then Adam is employed as the optimizer.   In all, the research to date mostly employed neural networks with time series techniques to make the prediction. And the accuracy generally fades as the prediction spans into the future. "
   ]
  },
  {
   "cell_type": "markdown",
   "id": "adfd68f3",
   "metadata": {},
   "source": [
    "## Data"
   ]
  },
  {
   "cell_type": "markdown",
   "id": "944d9a4e",
   "metadata": {},
   "source": [
    "The data employed in this project is mainly from Energy Information Administration (EIA) of the U.S. Department of Energy, National Centers for Environmental Information and Google Trends. Due to the differences in factors that affects electricity price across states and the availability of data, this project will focus on data and predicting electricity price in the state of Virginia on a monthly basis between 2001 to 2020. "
   ]
  },
  {
   "cell_type": "markdown",
   "id": "03d9b31b",
   "metadata": {},
   "source": [
    "## Energy"
   ]
  },
  {
   "cell_type": "markdown",
   "id": "8a8f19be",
   "metadata": {},
   "source": [
    "The bulk of variables are energy directed-related data. The average price of electricity per kilowatt hour in cents through EIA is added to the data frame. Since in a competitive market, the price of a commodity is heavily related to the amount of supply, including the total amount of electricity generation is a sensible thing to do. The EIA provides the total quantity of electricity generated in megawatt hours in Virginia monthly. According to the EIA, there are five main source of energy that the electric power sector consumes: coal, natural gas, petroleum, renewable energy, and nuclear power. Three of the main are fossil fuels which are also subject to competitive market and volatile fluctuation. Including the monthly data amount of the consumption and price of those three types of fossil fuel will give the model more predictive power."
   ]
  },
  {
   "cell_type": "markdown",
   "id": "21c2b08a",
   "metadata": {},
   "source": [
    "## Public Perception"
   ]
  },
  {
   "cell_type": "markdown",
   "id": "b748f338",
   "metadata": {},
   "source": [
    "Since the electricity market is a competitive market, people’s perception towards electricity price could have effects on the price itself. Google trends data records the frequency and amount of google search of electricity price. It will lend insights into the extent of how people care about the electricity price in a certain period which could give the model some information regarding the demand of electricity. In addition, search trend can also reflect certain economical/political conjuncture that have huge impact on the electricity price. All in all, include search trends as an indicator of public perception will lend power to the model’s prediction."
   ]
  },
  {
   "cell_type": "markdown",
   "id": "fae4492f",
   "metadata": {},
   "source": [
    "## Weather Conditions"
   ]
  },
  {
   "cell_type": "markdown",
   "id": "15e97442",
   "metadata": {},
   "source": [
    "Electricity consumption is subject to weather condition for reason that different weather may influence the amount that people consume. For instance, in hot or cold weather setting, people would be inclined to use more electricity to power the air conditioner to adjust the indoor temperature. In rainy day, people are also inclined to use more power to lower the humidity indoor. In both cases, the electricity consumption goes up due to unusual weather condition. And the consumption as demand will shape the price. Therefore, add indicators of weather will also provide vital information to the prediction. The monthly data of average temperature and average precipitation of Virginia are incorporated in the model. Both the data comes from National Centers for Environmental Information."
   ]
  },
  {
   "cell_type": "markdown",
   "id": "83d0c513",
   "metadata": {},
   "source": [
    "## Other "
   ]
  },
  {
   "cell_type": "markdown",
   "id": "0aad447c",
   "metadata": {},
   "source": [
    "Other factors that are not directly related to the price of electricity but may have significant impact on it also need to be taken into consideration. The pandemic of COVID-19 reshapes many aspects of society, including how people interacted and perform their daily life. People in the covid era stayed home a lot more than before, which can increase their use of electronic appliance and boost up their consumption of electricity. Considering this, a dummy variable that takes the value of 1 after March 2020 and 0 before March 2020 can works as an indicator of the pandemic and provide that information to the model. What’s more, like any other time series data, the price of electricity demonstrates salient seasonality (show picture). Add a variable that reflects the seasonal change can capture the price fluctuation. After decomposing the price using package “statsmodels”, a variable that depicts seasonal change can be extracted from the price and add to the data frame."
   ]
  },
  {
   "cell_type": "markdown",
   "id": "86e6e566",
   "metadata": {},
   "source": [
    "## Data Wrangling Process"
   ]
  },
  {
   "cell_type": "markdown",
   "id": "955537fc",
   "metadata": {},
   "source": [
    "In terms of data wrangling, I first identify the target data within each single Excel sheet or csv file. Then I imported each raw data frame into python using pandas read_ syntax. There are several Excel files that contain multiple sheets. Therefore, loops are necessary for import each sheet then concatenate them orderly. Next step would be changing every data frames’ date into a uniformed format (Year-Month-Day) and selecting the target rows and columns. In the process, pivoting data frames from long to wide is involved in the fossil fuels consumption data. Since the variables chosen have the date of the month as index, after cleaning them, I joined them all together based on the date. Every unit of analysis contains the year/month date, the average price of electricity and other features that is correlated with the price."
   ]
  },
  {
   "cell_type": "markdown",
   "id": "26a5fe12",
   "metadata": {},
   "source": [
    "# Analysis"
   ]
  },
  {
   "cell_type": "markdown",
   "id": "12bdbbf7",
   "metadata": {},
   "source": [
    "There are mainly three components in my analysis of the data: Imputing the missing values, initial exploration through multiple visualizations and applying machine learning models. "
   ]
  },
  {
   "cell_type": "markdown",
   "id": "03dae9ae",
   "metadata": {},
   "source": [
    "## Imputing the missing values"
   ]
  },
  {
   "cell_type": "markdown",
   "id": "df97c1e1",
   "metadata": {},
   "source": [
    "From the miss matrix, there are quite a lot of missing values in variable coal_price, natrualgas_price and petroleum_price. (show picture) Especially in variable petroleum_price, missing values almost comprised half of the sample size. Since my entire data frame only spans twenty years with pace of a month, it only contains 240 entries. I cannot afford to drop all rows that contain missing values for this action will greatly damage the continuity and integrity of the data. There are only two choices left: extrapolation/interpolation and imputing with regression predicted values. Based on the overall distribution of missing values, I chose imputing with regression predicted values. (show picture) It is because when half of the variable values are missing leaving a large blank space with no data, the extrapolation process weighs a lot more in the imputing process. In this case, imputing with predicted values that is generated by learning from other variables seems viable. I used IterativeImputer from sklearn package to impute all the missing values. Using this methods, the empty spaces in the data frame would be filled with plausible values with no loss of entry. "
   ]
  },
  {
   "cell_type": "markdown",
   "id": "7f4f7396",
   "metadata": {},
   "source": [
    "## Data Exploration"
   ]
  },
  {
   "cell_type": "markdown",
   "id": "45e0a8f0",
   "metadata": {},
   "source": [
    "I started my exploration process with discovering the correlation between selected features. (show picture). As the heatmap of correlation shows, the consumption of natural gas and coal are negatively correlated. It is not counter intuitive because within a period, when the total amount of generation is set, the consumption of the fossil fuels is like a tipping board, one end goes down the other one would go up. The same logic can be applied to the negative relations between natural gas consumption, the total generation and coal price, petroleum price. When the total amount of generation and the consumption of natural gas are increasing, due to the lack of demand, the coal price and the petroleum price will drop. What is interesting is the fact that public perception is highly correlated with the consumption of coal, the price of coal and the price of petroleum. One hypothesis I can come up with is when the prices of those fossil fuels experience volatile fluctuations, the electricity price will also be affected and change violently. At this point, the public’s attention is drawn to the fluctuations of electricity prices. From the plot we can also see that there are some positive correlations between fossil fuel prices. This is not surprising because fossil fuel market as a whole could experience fluctuations due to numerous incidents. Putting possible explanations aside, highly correlated features could possibly damage the model’s predictive power due to the limited information they can provide. "
   ]
  },
  {
   "cell_type": "markdown",
   "id": "1aad03c0",
   "metadata": {},
   "source": [
    "Second, I plotted a histogram for all the continuous variables to see the distribution of each feature. (show picture) We can see that the consumption of natural gas, the consumption of petroleum, the petroleum price and Other gases consumption have salient one-sided skewed tendency. After logging them, the one-side skewed problems resolved except the variable other gases consumption. Since that variable have mostly zero as values, I decided to drop this feature for it contains little information. "
   ]
  },
  {
   "cell_type": "markdown",
   "id": "96eceec2",
   "metadata": {},
   "source": [
    "Third, I investigated the relationships between the electricity price and each feature. (show picture) In terms of the energy data, The consumption and price of coal and petroleum have the same downward sloping trend when plotted against electricity price. This makes sense because when the price of those two fuels falls, the electricity industry would utilize more fuels of those kind to generate power, which in all would bring down the price of unit electricity. What is counter intuitive is the relationships between natural gas and the price of electricity. The price of natural gas has a positive correlation with electricity price while its consumption has a negative relationship with electricity price. According to the EIA, natural gas accounts for half the energy consumed when generating electricity. One hypothesis would be when the natural gas price drops, the industry would still use more natural gas, but since natural gas consumption takes up half of the total consumption, the price of electricity would still go up due to the large amount of natural gas used. In terms of the data of weather conditions, the trends fit my expectations that when temperature and precipitation increase, the electricity price would also increase due to the boosted demand. As for other data, covid do lead to an increase in the price of electricity. And the public perception variable also demonstrated positive effect on the price of electricity."
   ]
  },
  {
   "cell_type": "markdown",
   "id": "a3d7d03e",
   "metadata": {},
   "source": [
    "## Modeling"
   ]
  },
  {
   "cell_type": "markdown",
   "id": "db0fc288",
   "metadata": {},
   "source": [
    "I applied five models that is suited for regression problems: the linear model, K-Nearest Neighbors, Decision Tree, Bagged regressors and Random Forests. Before running the models, I performed several high-level preprocessing techniques which are not suited for automation. First, I dropped the other gases variable due to its inability to provide information. Second, I logged three variables as discussed above to solve the lopsided problem. \n",
    "\n",
    "After the high-level preprocessing, I first set up the cross validation with ten splits. Then I set up a pipeline to first preprocess the continuous variables using MinMaxScaler which can reduce the range of each variable without losing or distorting information. After that I specified the models mentioned above and set up the tuning parameters respectively in the search space. Later, I employ GridSearchCV and feed in the pipeline and specified model to search for the best performing model among them.\n",
    "\n",
    "After finding the best performing model, I investigated its mean squared error and performed feature importance tests to interpret the results. "
   ]
  },
  {
   "cell_type": "markdown",
   "id": "8ba64339",
   "metadata": {},
   "source": [
    "# Results"
   ]
  },
  {
   "cell_type": "markdown",
   "id": "ecdefab2",
   "metadata": {},
   "source": [
    "The best performing model is Random Forest Regressor with max depth of 5 and 100 estimators. The mean squared error on the test data set is 0.179. The R2 score on the test dataset is 0.882. (show picture) This model is performing good enough for late feature importance interpretation. "
   ]
  },
  {
   "cell_type": "markdown",
   "id": "039df658",
   "metadata": {},
   "source": [
    "I first conduced permutation for each feature for 25 times to yield a reliable result of feature importance. (show picture) As shown in the plot, the two most important features are the consumption of natural gas and coal. Public reception comes third but is smaller by 0.36 than the second important feature. The Covid variable and seasonal have no importance which implies they did not contribute information to the final prediction. In the realm of energy data, consumption of natural gas and coal contribute the most to the model, which is not surprising since in the correlation heatmap many variables are highly correlated with each other, especially with the prices of three fossil fuels. For weather data, both average temperature and average precipitation have a minimal contribution to the model. In this context, the fluctuation in weather conditions have less effect on prediction than energy related variables. What is worth mentioning is that the variable seasonality is completely useless in the model. My reason for bringing this variable in is to boost up the effect of seasonal change on the electricity price. My intuition about this would be to a degree, seasonal change is reflected by the change in the average temperature and average precipitation. Therefore, the two variables of weather absorbed all the effect of seasonal change on the electricity price. Public perception indeed has effect on the electricity price although its permutation importance is significantly lower than the first two important features. The covid variable has zero importance in permutation importance process, which I think attribute to the fact that there are not enough entries that have covid equals one. The number of months in the covid era is much smaller than those in the pre-covid times. "
   ]
  },
  {
   "cell_type": "markdown",
   "id": "86848867",
   "metadata": {},
   "source": [
    "Next, I plotted the partial dependency plots to see how exactly each variable contribute to the prediction. (show picture) As we can see from the plots, only two variable: consumption of natural gas and coal, have significant impact on prediction when themselves are changing. In the coal consumption plot, we can see that the price of electricity drops significantly once the consumption reaches a point, whereas the electricity price rises steadily when the consumption of natural gas grows. When plotting the interaction partial dependency, we can clearly see that when coal consumption is relatively high and consumption of natural gas is relatively low, the price of electricity is at a low position. As the consumption of natural gas grows and that of coal shrinks, electricity price is at a high position. And as the last two graphs shown, even though public perception comes third when calculating permutation importance, its effect on price prediction is still small compared to the consumption of natural gas and coal. "
   ]
  },
  {
   "cell_type": "markdown",
   "id": "009f4e26",
   "metadata": {},
   "source": [
    "# Discussion "
   ]
  },
  {
   "cell_type": "markdown",
   "id": "3e17f97b",
   "metadata": {},
   "source": [
    "My initial idea of success is to produce a predictive model based on clean data. I have achieved the goal in the sense that the data wrangling process and model prediction accuracy are not problematic. However, the model itself relies on a small number of features reflects that the initial feature selection process is unsuccessful. Regarding the fact that price of electricity is in the range of time series data, perhaps employing traditional machine learning methods is not appropriate. But I am convinced that there are ways to identify more useful features that are better than the one I created. \n",
    "\n",
    "In the process of doing this project, I consider using time series related model such as ARIMA. However, it has little use in terms of interpreting the result. Therefore, I only adopted a few methods in working with time series data such as extract the seasonality pattern and trend. If I am given more time, I would probably choose another topic that is not related to time series. (Probably not supposed to say that). Realistically, I will select more features to feed in the model and do more research on time series models to see how to incorporate it into this process.\n"
   ]
  },
  {
   "cell_type": "markdown",
   "id": "29a58d57",
   "metadata": {},
   "source": []
  },
  {
   "cell_type": "markdown",
   "id": "e3ed3fed",
   "metadata": {},
   "source": []
  },
  {
   "cell_type": "markdown",
   "id": "aaeb48ea",
   "metadata": {},
   "source": []
  },
  {
   "cell_type": "markdown",
   "id": "7e17559a",
   "metadata": {},
   "source": []
  },
  {
   "cell_type": "markdown",
   "id": "38fbcf1a",
   "metadata": {},
   "source": []
  },
  {
   "cell_type": "markdown",
   "id": "80135884",
   "metadata": {},
   "source": []
  },
  {
   "cell_type": "markdown",
   "id": "6ce787b5",
   "metadata": {},
   "source": []
  },
  {
   "cell_type": "markdown",
   "id": "1651efff",
   "metadata": {},
   "source": []
  },
  {
   "cell_type": "markdown",
   "id": "05bd7bc3",
   "metadata": {},
   "source": []
  },
  {
   "cell_type": "markdown",
   "id": "205b9f86",
   "metadata": {},
   "source": []
  },
  {
   "cell_type": "markdown",
   "id": "80e7034a",
   "metadata": {},
   "source": []
  }
 ],
 "metadata": {
  "kernelspec": {
   "display_name": "Python 3",
   "language": "python",
   "name": "python3"
  },
  "language_info": {
   "codemirror_mode": {
    "name": "ipython",
    "version": 3
   },
   "file_extension": ".py",
   "mimetype": "text/x-python",
   "name": "python",
   "nbconvert_exporter": "python",
   "pygments_lexer": "ipython3",
   "version": "3.8.8"
  }
 },
 "nbformat": 4,
 "nbformat_minor": 5
}
