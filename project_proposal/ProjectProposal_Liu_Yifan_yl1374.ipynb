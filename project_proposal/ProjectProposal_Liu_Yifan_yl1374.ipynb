{
 "cells": [
  {
   "cell_type": "markdown",
   "id": "5347930d",
   "metadata": {},
   "source": [
    "## Overview"
   ]
  },
  {
   "cell_type": "markdown",
   "id": "6e386675",
   "metadata": {},
   "source": [
    "Electricity has always been at the heart of residents’ daily life, industrial production, and transportation. Thus, the price of it can affect citizen’s wellbeing and economic development deeply. However, the unforeseeable fluctuation of electricity price can greatly disturb the normal conduct of residents and businesses by increased their cost. A reliable prediction of electricity price can help people and businesses to plan ahead, avoid unnecessary cost and maximize output. This project aims to collect data on electricity generation, fuel consumption and weather conditions of state of Virginia to form a model to predict future electricity price in Virginia."
   ]
  },
  {
   "cell_type": "markdown",
   "id": "ce100890",
   "metadata": {},
   "source": [
    "## Data and Acquisition"
   ]
  },
  {
   "cell_type": "markdown",
   "id": "e3ce87be",
   "metadata": {},
   "source": [
    "According to the EIA, fuel, transportation, power plant cost, weather condition and regulation have great impact on electricity price.(1) This project will employ datasets such as monthly electricity price of state Virginia, monthly generation of electricity by source, the consumption of fossil fuels when generating electricity by source and average temperature and precipitation by month. These data will be organized in a single dataframe with month/year as index and other features as columns. Due to the availability of data, this project would only include data from 2001 to now.\n",
    "\n",
    "Monthly electricity price of state Virginia, monthly generation of electricity by source, the consumption of fossil fuels when generating electricity by source are from the Energy Information Administration (EIA) of the U.S. Department of Energy(https://www.eia.gov). This part the data is fully available on the website. The weather data of Virginia is from the National Centers for Environmental Information(https://www.noaa.gov). The acquisition of that data will be scraped from the website. \n"
   ]
  },
  {
   "cell_type": "markdown",
   "id": "3e17eacf",
   "metadata": {},
   "source": [
    "## Methods"
   ]
  },
  {
   "cell_type": "markdown",
   "id": "8fdcbf4e",
   "metadata": {},
   "source": [
    "Firstly, data of Virginia mentioned above will be filtered out from the raw data. Every entry will be organized by time(month) from 2001 to now. And several separate dataframes will be merged into one according to the date for future visualizations and statistical learning. Second, this project will contain multiple visualizations including the correlations between electricity price between electricity generation, fossil fuel consumption and weather condition and the plots that shows the distribution and patterns of different features. In addition, I would also use plots to identify useful features and rule out the anomaly. Lastly, I would employ multiple machine learning techniques to generate a plausible model for predicting future electricity price. In this process, I would do a horse racing between different models using cross validation and setting hyperparameters. "
   ]
  },
  {
   "cell_type": "markdown",
   "id": "1c0520ef",
   "metadata": {},
   "source": [
    "## Prospects"
   ]
  },
  {
   "cell_type": "markdown",
   "id": "d16cdad9",
   "metadata": {},
   "source": [
    "In my view, a finished project would consist of neatly cleaned data sets, several clear visual demonstrations, and an executable machine learning process. If the model creates predictions that seem reasonable and around the average, I would be convinced that the project accomplished its goal. I certainly am aware that electricity price is subjected to many factors which may be out of this projects’ scope and there can be various unexpected incidents that could render the price to be far from the average. Therefore, I would not feel surprised if prediction is unrealistic."
   ]
  },
  {
   "cell_type": "markdown",
   "id": "1c81f863",
   "metadata": {},
   "source": [
    "### Reference"
   ]
  },
  {
   "cell_type": "markdown",
   "id": "41aeffdf",
   "metadata": {},
   "source": [
    "(1)https://www.eia.gov/energyexplained/electricity/prices-and-factors-affecting-prices.php"
   ]
  }
 ],
 "metadata": {
  "kernelspec": {
   "display_name": "Python 3",
   "language": "python",
   "name": "python3"
  },
  "language_info": {
   "codemirror_mode": {
    "name": "ipython",
    "version": 3
   },
   "file_extension": ".py",
   "mimetype": "text/x-python",
   "name": "python",
   "nbconvert_exporter": "python",
   "pygments_lexer": "ipython3",
   "version": "3.8.8"
  }
 },
 "nbformat": 4,
 "nbformat_minor": 5
}
